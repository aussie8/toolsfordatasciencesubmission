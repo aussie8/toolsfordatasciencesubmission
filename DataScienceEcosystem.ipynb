{
 "cells": [
  {
   "cell_type": "markdown",
   "id": "d061f52c-312a-4916-914b-561e6bae369e",
   "metadata": {},
   "source": [
    "# Data Science Tools and Ecosystem"
   ]
  },
  {
   "cell_type": "markdown",
   "id": "fb843ebc-7af8-45b5-8261-b79b67757beb",
   "metadata": {},
   "source": [
    "## Author\n",
    "Austin Hernandez"
   ]
  },
  {
   "cell_type": "markdown",
   "id": "ac2113c0-e7ad-4cce-b893-04d1d758dcce",
   "metadata": {},
   "source": [
    "In this notebook, Data Science Tools and Ecosystem are summarized."
   ]
  },
  {
   "cell_type": "markdown",
   "id": "b23717e8-e421-4614-a16b-8eac448404c0",
   "metadata": {},
   "source": [
    "**Objectives:**\n",
    "* list popular languages used by Data Scientists\n",
    "* list commonly used libraries by Data Scientists\n",
    "* list some data science tools/IDEs\n",
    "* evaluate arithmetic expressions using code within the notebook\n"
   ]
  },
  {
   "cell_type": "markdown",
   "id": "528611d0-fea0-49b8-a241-5d5efb603238",
   "metadata": {},
   "source": [
    "Some of the popular languages that Data Scientists use are:\n",
    "1. C++\n",
    "2. Scala\n",
    "3. Python\n",
    "4. SQL\n",
    "5. Python"
   ]
  },
  {
   "cell_type": "markdown",
   "id": "6ebb25ed-1e37-44f6-87c4-b9f87fc36ed8",
   "metadata": {},
   "source": [
    "Some of the commonly used libraries used by Data Scientists include:\n",
    "1. Pandas\n",
    "2. Numpy\n",
    "3. TensorFlow\n",
    "4. Matplotlib"
   ]
  },
  {
   "cell_type": "markdown",
   "id": "0850c552-aab5-4ed8-8542-34ec86d843f7",
   "metadata": {},
   "source": [
    "| Data Science Tools |\n",
    "|--------------------|\n",
    "| Jupyter Notebook |\n",
    "| VS Code |\n",
    "| RStudio |"
   ]
  },
  {
   "cell_type": "markdown",
   "id": "ac04ea01-873f-4893-87f2-41d35c57d605",
   "metadata": {},
   "source": [
    "### Below are a few examples of evaluating arithmetic expressions in Python."
   ]
  },
  {
   "cell_type": "code",
   "execution_count": 1,
   "id": "55737cc5-2785-49e1-9502-9b7495f72fee",
   "metadata": {},
   "outputs": [
    {
     "data": {
      "text/plain": [
       "17"
      ]
     },
     "execution_count": 1,
     "metadata": {},
     "output_type": "execute_result"
    }
   ],
   "source": [
    "#This is a simple arithmetic expression to multiply then add integers\n",
    "(3*4)+5"
   ]
  },
  {
   "cell_type": "code",
   "execution_count": 2,
   "id": "41440af0-49f9-4bf3-a610-478699ad9193",
   "metadata": {},
   "outputs": [
    {
     "data": {
      "text/plain": [
       "3.3333333333333335"
      ]
     },
     "execution_count": 2,
     "metadata": {},
     "output_type": "execute_result"
    }
   ],
   "source": [
    "#This will convert 200 minutes to hours by dividing by 60\n",
    "200/60"
   ]
  },
  {
   "cell_type": "code",
   "execution_count": null,
   "id": "2dbaa6ef-cf76-43c7-b3ae-5e2d2125c8af",
   "metadata": {},
   "outputs": [],
   "source": []
  }
 ],
 "metadata": {
  "kernelspec": {
   "display_name": "Python 3 (ipykernel)",
   "language": "python",
   "name": "python3"
  },
  "language_info": {
   "codemirror_mode": {
    "name": "ipython",
    "version": 3
   },
   "file_extension": ".py",
   "mimetype": "text/x-python",
   "name": "python",
   "nbconvert_exporter": "python",
   "pygments_lexer": "ipython3",
   "version": "3.12.8"
  }
 },
 "nbformat": 4,
 "nbformat_minor": 5
}
